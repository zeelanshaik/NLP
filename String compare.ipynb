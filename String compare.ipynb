{
 "cells": [
  {
   "cell_type": "code",
   "execution_count": 3,
   "metadata": {},
   "outputs": [],
   "source": [
    "from difflib import SequenceMatcher\n",
    "\n",
    "a = \"I love Coding\"\n",
    "b = \"I love Coding\"\n",
    "\n",
    "ratio = SequenceMatcher(None, a, b).ratio()"
   ]
  },
  {
   "cell_type": "code",
   "execution_count": 4,
   "metadata": {},
   "outputs": [
    {
     "name": "stdout",
     "output_type": "stream",
     "text": [
      "1.0\n"
     ]
    }
   ],
   "source": [
    "print(ratio)"
   ]
  },
  {
   "cell_type": "code",
   "execution_count": 5,
   "metadata": {},
   "outputs": [
    {
     "name": "stdout",
     "output_type": "stream",
     "text": [
      "Same Strings\n"
     ]
    }
   ],
   "source": [
    "#String compare in Python example\n",
    " \n",
    " \n",
    " \n",
    "str_x = 'Hello & Welcome'\n",
    " \n",
    "str_y = 'Hello & Welcome'\n",
    " \n",
    " \n",
    " \n",
    "#comparing by ==\n",
    " \n",
    "if str_x == str_y:\n",
    " \n",
    "    print (\"Same Strings\")\n",
    " \n",
    "else:\n",
    " \n",
    "    print (\"Different Strings\")"
   ]
  },
  {
   "cell_type": "code",
   "execution_count": 6,
   "metadata": {},
   "outputs": [
    {
     "name": "stdout",
     "output_type": "stream",
     "text": [
      "Enter First String? Heloo this is Zeelan how are you\n",
      "Enter Second String? Heloo this is Zeelan how are you\n",
      "You entered same strings!\n"
     ]
    }
   ],
   "source": [
    "str_input1 = input(\"Enter First String? \")\n",
    " \n",
    "str_input2 = input(\"Enter Second String? \")\n",
    " \n",
    " \n",
    " \n",
    "#comparing by != (not equal to)\n",
    " \n",
    "if str_input1 != str_input2:\n",
    " \n",
    "    print (\"Both Strings are different!\")\n",
    " \n",
    "else:\n",
    " \n",
    "    print (\"You entered same strings!\")\n"
   ]
  },
  {
   "cell_type": "code",
   "execution_count": null,
   "metadata": {},
   "outputs": [],
   "source": [
    "import pandas as pd\n",
    "\n",
    "#create sample data\n",
    "data = {'model': ['Lisa', 'Lisa 2', 'Macintosh 128K', 'Macintosh 512K'],\n",
    "        'launched': [1983,1984,1984,1984],\n",
    "        'discontinued': [1986, 1985, 1984, 1986]}\n",
    "\n",
    "df = pd.DataFrame(data, columns = ['model', 'launched', 'discontinued'])\n",
    "df\n"
   ]
  },
  {
   "cell_type": "code",
   "execution_count": 8,
   "metadata": {},
   "outputs": [
    {
     "data": {
      "text/html": [
       "<div>\n",
       "<style scoped>\n",
       "    .dataframe tbody tr th:only-of-type {\n",
       "        vertical-align: middle;\n",
       "    }\n",
       "\n",
       "    .dataframe tbody tr th {\n",
       "        vertical-align: top;\n",
       "    }\n",
       "\n",
       "    .dataframe thead th {\n",
       "        text-align: right;\n",
       "    }\n",
       "</style>\n",
       "<table border=\"1\" class=\"dataframe\">\n",
       "  <thead>\n",
       "    <tr style=\"text-align: right;\">\n",
       "      <th></th>\n",
       "      <th>model</th>\n",
       "      <th>launched</th>\n",
       "      <th>discontinued</th>\n",
       "    </tr>\n",
       "  </thead>\n",
       "  <tbody>\n",
       "    <tr>\n",
       "      <th>2</th>\n",
       "      <td>Macintosh 128K</td>\n",
       "      <td>1984</td>\n",
       "      <td>1984</td>\n",
       "    </tr>\n",
       "    <tr>\n",
       "      <th>3</th>\n",
       "      <td>Macintosh 512K</td>\n",
       "      <td>1984</td>\n",
       "      <td>1986</td>\n",
       "    </tr>\n",
       "  </tbody>\n",
       "</table>\n",
       "</div>"
      ],
      "text/plain": [
       "            model  launched  discontinued\n",
       "2  Macintosh 128K      1984          1984\n",
       "3  Macintosh 512K      1984          1986"
      ]
     },
     "execution_count": 8,
     "metadata": {},
     "output_type": "execute_result"
    }
   ],
   "source": [
    "df[df['model'].str.contains('ac')]"
   ]
  },
  {
   "cell_type": "code",
   "execution_count": 9,
   "metadata": {},
   "outputs": [
    {
     "name": "stdout",
     "output_type": "stream",
     "text": [
      "     State     State_1\n",
      "0  Arizona  New Jersey\n",
      "1  Georgia     georgia\n",
      "2  Newyork     Newyork\n",
      "3  Indiana     Indiana\n",
      "4  Florida     florida\n"
     ]
    }
   ],
   "source": [
    "import pandas as pd\n",
    "import numpy as np\n",
    " \n",
    "df1 = {\n",
    "    'State':['Arizona','Georgia','Newyork','Indiana','Florida'],\n",
    "    'State_1':['New Jersey','georgia','Newyork','Indiana','florida']}\n",
    " \n",
    "df1 = pd.DataFrame(df1,columns=['State','State_1'])\n",
    "print(df1)"
   ]
  },
  {
   "cell_type": "code",
   "execution_count": 10,
   "metadata": {},
   "outputs": [
    {
     "name": "stdout",
     "output_type": "stream",
     "text": [
      "     State     State_1  is_equal\n",
      "0  Arizona  New Jersey     False\n",
      "1  Georgia     georgia     False\n",
      "2  Newyork     Newyork      True\n",
      "3  Indiana     Indiana      True\n",
      "4  Florida     florida     False\n"
     ]
    }
   ],
   "source": [
    "df1['is_equal']= (df1['State']==df1['State_1'])\n",
    "print(df1)"
   ]
  },
  {
   "cell_type": "code",
   "execution_count": 22,
   "metadata": {},
   "outputs": [],
   "source": [
    "question = \"Well, right now I'm upset. I felt like watching\"\n",
    "ques=pd.DataFrame([question],columns=['ques'])"
   ]
  },
  {
   "cell_type": "code",
   "execution_count": 23,
   "metadata": {},
   "outputs": [
    {
     "name": "stdout",
     "output_type": "stream",
     "text": [
      "(1, 1)\n",
      "Index(['ques'], dtype='object')\n"
     ]
    },
    {
     "data": {
      "text/html": [
       "<div>\n",
       "<style scoped>\n",
       "    .dataframe tbody tr th:only-of-type {\n",
       "        vertical-align: middle;\n",
       "    }\n",
       "\n",
       "    .dataframe tbody tr th {\n",
       "        vertical-align: top;\n",
       "    }\n",
       "\n",
       "    .dataframe thead th {\n",
       "        text-align: right;\n",
       "    }\n",
       "</style>\n",
       "<table border=\"1\" class=\"dataframe\">\n",
       "  <thead>\n",
       "    <tr style=\"text-align: right;\">\n",
       "      <th></th>\n",
       "      <th>ques</th>\n",
       "    </tr>\n",
       "  </thead>\n",
       "  <tbody>\n",
       "    <tr>\n",
       "      <th>0</th>\n",
       "      <td>Well, right now I'm upset. I felt like watching</td>\n",
       "    </tr>\n",
       "  </tbody>\n",
       "</table>\n",
       "</div>"
      ],
      "text/plain": [
       "                                              ques\n",
       "0  Well, right now I'm upset. I felt like watching"
      ]
     },
     "execution_count": 23,
     "metadata": {},
     "output_type": "execute_result"
    }
   ],
   "source": [
    "print(ques.shape)\n",
    "print(ques.columns)\n",
    "ques"
   ]
  },
  {
   "cell_type": "code",
   "execution_count": null,
   "metadata": {},
   "outputs": [],
   "source": [
    "question = input(\"Enter First String? \")\n",
    "ques=pd.DataFrame([question],columns=['ques'])"
   ]
  },
  {
   "cell_type": "code",
   "execution_count": null,
   "metadata": {},
   "outputs": [],
   "source": [
    "print(ques.shape)\n",
    "print(ques.columns)\n",
    "ques"
   ]
  },
  {
   "cell_type": "code",
   "execution_count": null,
   "metadata": {},
   "outputs": [],
   "source": [
    "dfnew=pd.DataFrame()\n",
    "dfnew1=pd.DataFrame()\n",
    "dfnew['is_equal']= (df1['State']==ques['ques'])\n",
    "dfnew1 = df1[df1['State']==ques['ques']]\n",
    "print(df1)\n",
    "print(dfnew)\n",
    "print(dfnew1)"
   ]
  }
 ],
 "metadata": {
  "kernelspec": {
   "display_name": "Python 3",
   "language": "python",
   "name": "python3"
  },
  "language_info": {
   "codemirror_mode": {
    "name": "ipython",
    "version": 3
   },
   "file_extension": ".py",
   "mimetype": "text/x-python",
   "name": "python",
   "nbconvert_exporter": "python",
   "pygments_lexer": "ipython3",
   "version": "3.7.3"
  }
 },
 "nbformat": 4,
 "nbformat_minor": 2
}
