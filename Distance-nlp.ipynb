{
 "cells": [
  {
   "cell_type": "code",
   "execution_count": 1,
   "metadata": {},
   "outputs": [
    {
     "name": "stderr",
     "output_type": "stream",
     "text": [
      "C:\\ProgramData\\Anaconda3\\lib\\site-packages\\fuzzywuzzy\\fuzz.py:11: UserWarning: Using slow pure-python SequenceMatcher. Install python-Levenshtein to remove this warning\n",
      "  warnings.warn('Using slow pure-python SequenceMatcher. Install python-Levenshtein to remove this warning')\n"
     ]
    }
   ],
   "source": [
    "import pandas as pd\n",
    "import numpy as np\n",
    "import nltk\n",
    "import sklearn\n",
    "import pandas as pd\n",
    "import numpy as np\n",
    "import gensim\n",
    "from fuzzywuzzy import fuzz\n",
    "from nltk.corpus import stopwords\n",
    "from tqdm import tqdm_notebook\n",
    "from nltk import word_tokenize\n",
    "from scipy.stats import skew, kurtosis\n",
    "from scipy.spatial.distance import cosine, cityblock, jaccard, canberra, euclidean, minkowski, braycurtis\n",
    "from nltk import word_tokenize\n",
    "stop_words = stopwords.words('english')\n",
    "from sklearn.model_selection import train_test_split\n",
    "from sklearn.preprocessing import StandardScaler\n",
    "from sklearn.decomposition import PCA\n",
    "from sklearn.metrics import classification_report\n",
    "from sklearn.metrics import confusion_matrix  \n",
    "from sklearn.metrics import accuracy_score"
   ]
  },
  {
   "cell_type": "code",
   "execution_count": 13,
   "metadata": {},
   "outputs": [],
   "source": [
    "\n",
    "\n",
    "news_headline1 = \"Web services are XML based information exchange systems that use the Internet for direct application-to-application interaction. These systems can include programs, objects, messages, or documents.\"\n",
    "news_headline2 = \"Web services are XML based information exchange systems that use the Internet for direct application-to-application interaction. These systems can include programs, objects, messages, or documents.\"\n",
    "news_headline3 = \"Web services hmm  XML based information  systems uses Internet for application interaction.it contain programs, objects, messages, or documents.\"\n",
    "news_headline4 = \"Web services Web services Web services XML Web services XML Internet \"\n",
    "\n",
    "news_headlines = [news_headline1, news_headline2, news_headline3, news_headline4]"
   ]
  },
  {
   "cell_type": "code",
   "execution_count": 14,
   "metadata": {},
   "outputs": [
    {
     "name": "stdout",
     "output_type": "stream",
     "text": [
      "First 10 tokens from news headlines:  ['Web', 'services', 'are', 'XML', 'based', 'information', 'exchange', 'systems', 'that', 'use']\n",
      "First 10 tokens from news headlines:  ['Web', 'services', 'are', 'XML', 'based', 'information', 'exchange', 'systems', 'that', 'use']\n",
      "First 10 tokens from news headlines:  ['Web', 'services', 'hmm', 'XML', 'based', 'information', 'systems', 'uses', 'Internet', 'for']\n",
      "First 10 tokens from news headlines:  ['Web', 'services', 'Web', 'services', 'Web', 'services', 'XML', 'Web', 'services', 'XML']\n"
     ]
    }
   ],
   "source": [
    "news_headline1_tokens = nltk.word_tokenize(news_headline1)\n",
    "news_headline2_tokens = nltk.word_tokenize(news_headline2)\n",
    "news_headline3_tokens = nltk.word_tokenize(news_headline3)\n",
    "news_headline4_tokens = nltk.word_tokenize(news_headline4)\n",
    "\n",
    "for words in [news_headline1_tokens, news_headline2_tokens, news_headline3_tokens, news_headline4_tokens]:\n",
    "    print('First 10 tokens from news headlines: ', words[:10])"
   ]
  },
  {
   "cell_type": "code",
   "execution_count": 15,
   "metadata": {},
   "outputs": [],
   "source": [
    "#Stop words tokens\n",
    "\n",
    "question3= news_headline3\n",
    "question4= news_headline4\n",
    "\n",
    "question3 = question3.lower().split()\n",
    "question4 = question4.lower().split()\n",
    "\n",
    "question3 = [w for w in question3 if w not in stop_words]\n",
    "question4 = [w for w in question4 if w not in stop_words]\n",
    "\n",
    "question1= news_headline1\n",
    "question2= news_headline2\n",
    "\n",
    "question1 = question1.lower().split()\n",
    "question2 = question2.lower().split()\n",
    "\n",
    "question1 = [w for w in question1 if w not in stop_words]\n",
    "question2 = [w for w in question2 if w not in stop_words]"
   ]
  },
  {
   "cell_type": "code",
   "execution_count": 16,
   "metadata": {},
   "outputs": [
    {
     "name": "stdout",
     "output_type": "stream",
     "text": [
      "['web', 'services', 'web', 'services', 'web', 'services', 'xml', 'web', 'services', 'xml', 'internet']\n",
      "11\n",
      "Headline ['Web', 'services', 'Web', 'services', 'Web', 'services', 'XML', 'Web', 'services', 'XML', 'Internet']\n",
      "11\n"
     ]
    }
   ],
   "source": [
    "print(question4)\n",
    "print(len(question4))\n",
    "print('Headline',news_headline4_tokens)\n",
    "print(len(news_headline4_tokens))\n"
   ]
  },
  {
   "cell_type": "code",
   "execution_count": 17,
   "metadata": {},
   "outputs": [],
   "source": [
    "from numpy import argmax\n",
    "\n",
    "def transform(headlines):\n",
    "    tokens = [w for s in headlines for w in s ]\n",
    "    print()\n",
    "    print('All Tokens:')\n",
    "    print(tokens)\n",
    "\n",
    "    results = []\n",
    "    label_enc = sklearn.preprocessing.LabelEncoder()\n",
    "    onehot_enc = sklearn.preprocessing.OneHotEncoder()\n",
    "    \n",
    "    encoded_all_tokens = label_enc.fit_transform(list(set(tokens)))\n",
    "    encoded_all_tokens = encoded_all_tokens.reshape(len(encoded_all_tokens), 1)\n",
    "    \n",
    "    onehot_enc.fit(encoded_all_tokens)\n",
    "    \n",
    "    for headline_tokens in headlines:\n",
    "        print()\n",
    "        print('Original Input:', headline_tokens)\n",
    "        \n",
    "        encoded_words = label_enc.transform(headline_tokens)\n",
    "        print('Encoded by Label Encoder:', encoded_words)\n",
    "        \n",
    "        encoded_words = onehot_enc.transform(encoded_words.reshape(len(encoded_words), 1))\n",
    "        print('Encoded by OneHot Encoder:')\n",
    "        print(encoded_words)\n",
    "\n",
    "        results.append(np.sum(encoded_words.toarray(), axis=0))\n",
    "    \n",
    "    return results\n",
    "\n"
   ]
  },
  {
   "cell_type": "code",
   "execution_count": 18,
   "metadata": {},
   "outputs": [
    {
     "name": "stdout",
     "output_type": "stream",
     "text": [
      "\n",
      "All Tokens:\n",
      "['Web', 'services', 'are', 'XML', 'based', 'information', 'exchange', 'systems', 'that', 'use', 'the', 'Internet', 'for', 'direct', 'application-to-application', 'interaction', '.', 'These', 'systems', 'can', 'include', 'programs', ',', 'objects', ',', 'messages', ',', 'or', 'documents', '.', 'Web', 'services', 'are', 'XML', 'based', 'information', 'exchange', 'systems', 'that', 'use', 'the', 'Internet', 'for', 'direct', 'application-to-application', 'interaction', '.', 'These', 'systems', 'can', 'include', 'programs', ',', 'objects', ',', 'messages', ',', 'or', 'documents', '.', 'Web', 'services', 'hmm', 'XML', 'based', 'information', 'systems', 'uses', 'Internet', 'for', 'application', 'interaction.it', 'contain', 'programs', ',', 'objects', ',', 'messages', ',', 'or', 'documents', '.', 'Web', 'services', 'Web', 'services', 'Web', 'services', 'XML', 'Web', 'services', 'XML', 'Internet']\n"
     ]
    },
    {
     "name": "stderr",
     "output_type": "stream",
     "text": [
      "C:\\ProgramData\\Anaconda3\\lib\\site-packages\\sklearn\\preprocessing\\_encoders.py:371: FutureWarning: The handling of integer data will change in version 0.22. Currently, the categories are determined based on the range [0, max(values)], while in the future they will be determined based on the unique values.\n",
      "If you want the future behaviour and silence this warning, you can specify \"categories='auto'\".\n",
      "In case you used a LabelEncoder before this OneHotEncoder to convert the categories to integers, then you can now use the OneHotEncoder directly.\n",
      "  warnings.warn(msg, FutureWarning)\n"
     ]
    },
    {
     "name": "stdout",
     "output_type": "stream",
     "text": [
      "\n",
      "Original Input: ['Web', 'services', 'are', 'XML', 'based', 'information', 'exchange', 'systems', 'that', 'use', 'the', 'Internet', 'for', 'direct', 'application-to-application', 'interaction', '.', 'These', 'systems', 'can', 'include', 'programs', ',', 'objects', ',', 'messages', ',', 'or', 'documents', '.']\n",
      "Encoded by Label Encoder: [ 4 25  8  5  9 18 14 26 27 29 28  2 15 12  7 19  1  3 26 10 17 24  0 22\n",
      "  0 21  0 23 13  1]\n",
      "Encoded by OneHot Encoder:\n",
      "  (0, 4)\t1.0\n",
      "  (1, 25)\t1.0\n",
      "  (2, 8)\t1.0\n",
      "  (3, 5)\t1.0\n",
      "  (4, 9)\t1.0\n",
      "  (5, 18)\t1.0\n",
      "  (6, 14)\t1.0\n",
      "  (7, 26)\t1.0\n",
      "  (8, 27)\t1.0\n",
      "  (9, 29)\t1.0\n",
      "  (10, 28)\t1.0\n",
      "  (11, 2)\t1.0\n",
      "  (12, 15)\t1.0\n",
      "  (13, 12)\t1.0\n",
      "  (14, 7)\t1.0\n",
      "  (15, 19)\t1.0\n",
      "  (16, 1)\t1.0\n",
      "  (17, 3)\t1.0\n",
      "  (18, 26)\t1.0\n",
      "  (19, 10)\t1.0\n",
      "  (20, 17)\t1.0\n",
      "  (21, 24)\t1.0\n",
      "  (22, 0)\t1.0\n",
      "  (23, 22)\t1.0\n",
      "  (24, 0)\t1.0\n",
      "  (25, 21)\t1.0\n",
      "  (26, 0)\t1.0\n",
      "  (27, 23)\t1.0\n",
      "  (28, 13)\t1.0\n",
      "  (29, 1)\t1.0\n",
      "\n",
      "Original Input: ['Web', 'services', 'are', 'XML', 'based', 'information', 'exchange', 'systems', 'that', 'use', 'the', 'Internet', 'for', 'direct', 'application-to-application', 'interaction', '.', 'These', 'systems', 'can', 'include', 'programs', ',', 'objects', ',', 'messages', ',', 'or', 'documents', '.']\n",
      "Encoded by Label Encoder: [ 4 25  8  5  9 18 14 26 27 29 28  2 15 12  7 19  1  3 26 10 17 24  0 22\n",
      "  0 21  0 23 13  1]\n",
      "Encoded by OneHot Encoder:\n",
      "  (0, 4)\t1.0\n",
      "  (1, 25)\t1.0\n",
      "  (2, 8)\t1.0\n",
      "  (3, 5)\t1.0\n",
      "  (4, 9)\t1.0\n",
      "  (5, 18)\t1.0\n",
      "  (6, 14)\t1.0\n",
      "  (7, 26)\t1.0\n",
      "  (8, 27)\t1.0\n",
      "  (9, 29)\t1.0\n",
      "  (10, 28)\t1.0\n",
      "  (11, 2)\t1.0\n",
      "  (12, 15)\t1.0\n",
      "  (13, 12)\t1.0\n",
      "  (14, 7)\t1.0\n",
      "  (15, 19)\t1.0\n",
      "  (16, 1)\t1.0\n",
      "  (17, 3)\t1.0\n",
      "  (18, 26)\t1.0\n",
      "  (19, 10)\t1.0\n",
      "  (20, 17)\t1.0\n",
      "  (21, 24)\t1.0\n",
      "  (22, 0)\t1.0\n",
      "  (23, 22)\t1.0\n",
      "  (24, 0)\t1.0\n",
      "  (25, 21)\t1.0\n",
      "  (26, 0)\t1.0\n",
      "  (27, 23)\t1.0\n",
      "  (28, 13)\t1.0\n",
      "  (29, 1)\t1.0\n",
      "\n",
      "Original Input: ['Web', 'services', 'hmm', 'XML', 'based', 'information', 'systems', 'uses', 'Internet', 'for', 'application', 'interaction.it', 'contain', 'programs', ',', 'objects', ',', 'messages', ',', 'or', 'documents', '.']\n",
      "Encoded by Label Encoder: [ 4 25 16  5  9 18 26 30  2 15  6 20 11 24  0 22  0 21  0 23 13  1]\n",
      "Encoded by OneHot Encoder:\n",
      "  (0, 4)\t1.0\n",
      "  (1, 25)\t1.0\n",
      "  (2, 16)\t1.0\n",
      "  (3, 5)\t1.0\n",
      "  (4, 9)\t1.0\n",
      "  (5, 18)\t1.0\n",
      "  (6, 26)\t1.0\n",
      "  (7, 30)\t1.0\n",
      "  (8, 2)\t1.0\n",
      "  (9, 15)\t1.0\n",
      "  (10, 6)\t1.0\n",
      "  (11, 20)\t1.0\n",
      "  (12, 11)\t1.0\n",
      "  (13, 24)\t1.0\n",
      "  (14, 0)\t1.0\n",
      "  (15, 22)\t1.0\n",
      "  (16, 0)\t1.0\n",
      "  (17, 21)\t1.0\n",
      "  (18, 0)\t1.0\n",
      "  (19, 23)\t1.0\n",
      "  (20, 13)\t1.0\n",
      "  (21, 1)\t1.0\n",
      "\n",
      "Original Input: ['Web', 'services', 'Web', 'services', 'Web', 'services', 'XML', 'Web', 'services', 'XML', 'Internet']\n",
      "Encoded by Label Encoder: [ 4 25  4 25  4 25  5  4 25  5  2]\n",
      "Encoded by OneHot Encoder:\n",
      "  (0, 4)\t1.0\n",
      "  (1, 25)\t1.0\n",
      "  (2, 4)\t1.0\n",
      "  (3, 25)\t1.0\n",
      "  (4, 4)\t1.0\n",
      "  (5, 25)\t1.0\n",
      "  (6, 5)\t1.0\n",
      "  (7, 4)\t1.0\n",
      "  (8, 25)\t1.0\n",
      "  (9, 5)\t1.0\n",
      "  (10, 2)\t1.0\n",
      "\n",
      "All Tokens:\n",
      "['web', 'services', 'xml', 'based', 'information', 'exchange', 'systems', 'use', 'internet', 'direct', 'application-to-application', 'interaction.', 'systems', 'include', 'programs,', 'objects,', 'messages,', 'documents.', 'web', 'services', 'xml', 'based', 'information', 'exchange', 'systems', 'use', 'internet', 'direct', 'application-to-application', 'interaction.', 'systems', 'include', 'programs,', 'objects,', 'messages,', 'documents.', 'web', 'services', 'hmm', 'xml', 'based', 'information', 'systems', 'uses', 'internet', 'application', 'interaction.it', 'contain', 'programs,', 'objects,', 'messages,', 'documents.', 'web', 'services', 'web', 'services', 'web', 'services', 'xml', 'web', 'services', 'xml', 'internet']\n"
     ]
    },
    {
     "name": "stderr",
     "output_type": "stream",
     "text": [
      "C:\\ProgramData\\Anaconda3\\lib\\site-packages\\sklearn\\preprocessing\\_encoders.py:371: FutureWarning: The handling of integer data will change in version 0.22. Currently, the categories are determined based on the range [0, max(values)], while in the future they will be determined based on the unique values.\n",
      "If you want the future behaviour and silence this warning, you can specify \"categories='auto'\".\n",
      "In case you used a LabelEncoder before this OneHotEncoder to convert the categories to integers, then you can now use the OneHotEncoder directly.\n",
      "  warnings.warn(msg, FutureWarning)\n"
     ]
    },
    {
     "name": "stdout",
     "output_type": "stream",
     "text": [
      "\n",
      "Original Input: ['web', 'services', 'xml', 'based', 'information', 'exchange', 'systems', 'use', 'internet', 'direct', 'application-to-application', 'interaction.', 'systems', 'include', 'programs,', 'objects,', 'messages,', 'documents.']\n",
      "Encoded by Label Encoder: [20 16 21  2  9  6 17 18 12  4  1 10 17  8 15 14 13  5]\n",
      "Encoded by OneHot Encoder:\n",
      "  (0, 20)\t1.0\n",
      "  (1, 16)\t1.0\n",
      "  (2, 21)\t1.0\n",
      "  (3, 2)\t1.0\n",
      "  (4, 9)\t1.0\n",
      "  (5, 6)\t1.0\n",
      "  (6, 17)\t1.0\n",
      "  (7, 18)\t1.0\n",
      "  (8, 12)\t1.0\n",
      "  (9, 4)\t1.0\n",
      "  (10, 1)\t1.0\n",
      "  (11, 10)\t1.0\n",
      "  (12, 17)\t1.0\n",
      "  (13, 8)\t1.0\n",
      "  (14, 15)\t1.0\n",
      "  (15, 14)\t1.0\n",
      "  (16, 13)\t1.0\n",
      "  (17, 5)\t1.0\n",
      "\n",
      "Original Input: ['web', 'services', 'xml', 'based', 'information', 'exchange', 'systems', 'use', 'internet', 'direct', 'application-to-application', 'interaction.', 'systems', 'include', 'programs,', 'objects,', 'messages,', 'documents.']\n",
      "Encoded by Label Encoder: [20 16 21  2  9  6 17 18 12  4  1 10 17  8 15 14 13  5]\n",
      "Encoded by OneHot Encoder:\n",
      "  (0, 20)\t1.0\n",
      "  (1, 16)\t1.0\n",
      "  (2, 21)\t1.0\n",
      "  (3, 2)\t1.0\n",
      "  (4, 9)\t1.0\n",
      "  (5, 6)\t1.0\n",
      "  (6, 17)\t1.0\n",
      "  (7, 18)\t1.0\n",
      "  (8, 12)\t1.0\n",
      "  (9, 4)\t1.0\n",
      "  (10, 1)\t1.0\n",
      "  (11, 10)\t1.0\n",
      "  (12, 17)\t1.0\n",
      "  (13, 8)\t1.0\n",
      "  (14, 15)\t1.0\n",
      "  (15, 14)\t1.0\n",
      "  (16, 13)\t1.0\n",
      "  (17, 5)\t1.0\n",
      "\n",
      "Original Input: ['web', 'services', 'hmm', 'xml', 'based', 'information', 'systems', 'uses', 'internet', 'application', 'interaction.it', 'contain', 'programs,', 'objects,', 'messages,', 'documents.']\n",
      "Encoded by Label Encoder: [20 16  7 21  2  9 17 19 12  0 11  3 15 14 13  5]\n",
      "Encoded by OneHot Encoder:\n",
      "  (0, 20)\t1.0\n",
      "  (1, 16)\t1.0\n",
      "  (2, 7)\t1.0\n",
      "  (3, 21)\t1.0\n",
      "  (4, 2)\t1.0\n",
      "  (5, 9)\t1.0\n",
      "  (6, 17)\t1.0\n",
      "  (7, 19)\t1.0\n",
      "  (8, 12)\t1.0\n",
      "  (9, 0)\t1.0\n",
      "  (10, 11)\t1.0\n",
      "  (11, 3)\t1.0\n",
      "  (12, 15)\t1.0\n",
      "  (13, 14)\t1.0\n",
      "  (14, 13)\t1.0\n",
      "  (15, 5)\t1.0\n",
      "\n",
      "Original Input: ['web', 'services', 'web', 'services', 'web', 'services', 'xml', 'web', 'services', 'xml', 'internet']\n",
      "Encoded by Label Encoder: [20 16 20 16 20 16 21 20 16 21 12]\n",
      "Encoded by OneHot Encoder:\n",
      "  (0, 20)\t1.0\n",
      "  (1, 16)\t1.0\n",
      "  (2, 20)\t1.0\n",
      "  (3, 16)\t1.0\n",
      "  (4, 20)\t1.0\n",
      "  (5, 16)\t1.0\n",
      "  (6, 21)\t1.0\n",
      "  (7, 20)\t1.0\n",
      "  (8, 16)\t1.0\n",
      "  (9, 21)\t1.0\n",
      "  (10, 12)\t1.0\n"
     ]
    }
   ],
   "source": [
    "transformed_results = transform([\n",
    "    news_headline1_tokens, news_headline2_tokens, news_headline3_tokens, news_headline4_tokens])\n",
    "transformed_results1 = transform([\n",
    "    question1, question2, question3, question4])"
   ]
  },
  {
   "cell_type": "code",
   "execution_count": 19,
   "metadata": {},
   "outputs": [
    {
     "name": "stdout",
     "output_type": "stream",
     "text": [
      "Master Sentence: Web services are XML based information exchange systems that use the Internet for direct application-to-application interaction. These systems can include programs, objects, messages, or documents.\n",
      "-----\n",
      "Score: 0.00, Comparing Sentence: Web services are XML based information exchange systems that use the Internet for direct application-to-application interaction. These systems can include programs, objects, messages, or documents.\n",
      "-----\n",
      "Score: 0.00, Comparing Sentence: Web services are XML based information exchange systems that use the Internet for direct application-to-application interaction. These systems can include programs, objects, messages, or documents.\n",
      "-----\n",
      "Score: 4.24, Comparing Sentence: Web services hmm  XML based information  systems uses Internet for application interaction.it contain programs, objects, messages, or documents.\n",
      "-----\n",
      "Score: 7.42, Comparing Sentence: Web services Web services Web services XML Web services XML Internet \n"
     ]
    }
   ],
   "source": [
    "#EEuclidean Distance\n",
    "\n",
    "print('Master Sentence: %s' % news_headlines[0])\n",
    "for i, news_headline in enumerate(news_headlines):\n",
    "    score = sklearn.metrics.pairwise.euclidean_distances([transformed_results[i]], [transformed_results[0]])[0][0]\n",
    "    print('-----')\n",
    "    print('Score: %.2f, Comparing Sentence: %s' % (score, news_headline))"
   ]
  },
  {
   "cell_type": "code",
   "execution_count": 20,
   "metadata": {},
   "outputs": [
    {
     "name": "stdout",
     "output_type": "stream",
     "text": [
      "Master Sentence: Web services are XML based information exchange systems that use the Internet for direct application-to-application interaction. These systems can include programs, objects, messages, or documents.\n",
      "-----\n",
      "Score: 0.00, Comparing Sentence: Web services are XML based information exchange systems that use the Internet for direct application-to-application interaction. These systems can include programs, objects, messages, or documents.\n",
      "-----\n",
      "Score: 0.00, Comparing Sentence: Web services are XML based information exchange systems that use the Internet for direct application-to-application interaction. These systems can include programs, objects, messages, or documents.\n",
      "-----\n",
      "Score: 3.46, Comparing Sentence: Web services hmm  XML based information  systems uses Internet for application interaction.it contain programs, objects, messages, or documents.\n",
      "-----\n",
      "Score: 5.92, Comparing Sentence: Web services Web services Web services XML Web services XML Internet \n"
     ]
    }
   ],
   "source": [
    "print('Master Sentence: %s' % news_headlines[0])\n",
    "for i, news_headline in enumerate(news_headlines):\n",
    "    score = sklearn.metrics.pairwise.euclidean_distances([transformed_results1[i]], [transformed_results1[0]])[0][0]\n",
    "    print('-----')\n",
    "    print('Score: %.2f, Comparing Sentence: %s' % (score, news_headline))"
   ]
  },
  {
   "cell_type": "code",
   "execution_count": 21,
   "metadata": {},
   "outputs": [
    {
     "name": "stdout",
     "output_type": "stream",
     "text": [
      "Master Sentence: Web services are XML based information exchange systems that use the Internet for direct application-to-application interaction. These systems can include programs, objects, messages, or documents.\n",
      "-----\n",
      "Score: 1.00, Comparing Sentence: Web services are XML based information exchange systems that use the Internet for direct application-to-application interaction. These systems can include programs, objects, messages, or documents.\n",
      "-----\n",
      "Score: 1.00, Comparing Sentence: Web services are XML based information exchange systems that use the Internet for direct application-to-application interaction. These systems can include programs, objects, messages, or documents.\n",
      "-----\n",
      "Score: 0.75, Comparing Sentence: Web services hmm  XML based information  systems uses Internet for application interaction.it contain programs, objects, messages, or documents.\n",
      "-----\n",
      "Score: 0.29, Comparing Sentence: Web services Web services Web services XML Web services XML Internet \n"
     ]
    }
   ],
   "source": [
    "#Cosine Similarity\n",
    "\n",
    "print('Master Sentence: %s' % news_headlines[0])\n",
    "for i, news_headline in enumerate(news_headlines):\n",
    "    score = sklearn.metrics.pairwise.cosine_similarity([transformed_results[i]], [transformed_results[0]])[0][0]\n",
    "    print('-----')\n",
    "    print('Score: %.2f, Comparing Sentence: %s' % (score, news_headline))"
   ]
  },
  {
   "cell_type": "code",
   "execution_count": 22,
   "metadata": {},
   "outputs": [
    {
     "name": "stdout",
     "output_type": "stream",
     "text": [
      "Master Sentence: Web services are XML based information exchange systems that use the Internet for direct application-to-application interaction. These systems can include programs, objects, messages, or documents.\n",
      "-----\n",
      "Score: 1.00, Comparing Sentence: Web services are XML based information exchange systems that use the Internet for direct application-to-application interaction. These systems can include programs, objects, messages, or documents.\n",
      "-----\n",
      "Score: 1.00, Comparing Sentence: Web services are XML based information exchange systems that use the Internet for direct application-to-application interaction. These systems can include programs, objects, messages, or documents.\n",
      "-----\n",
      "Score: 0.67, Comparing Sentence: Web services hmm  XML based information  systems uses Internet for application interaction.it contain programs, objects, messages, or documents.\n",
      "-----\n",
      "Score: 0.40, Comparing Sentence: Web services Web services Web services XML Web services XML Internet \n"
     ]
    }
   ],
   "source": [
    "print('Master Sentence: %s' % news_headlines[0])\n",
    "for i, news_headline in enumerate(news_headlines):\n",
    "    score = sklearn.metrics.pairwise.cosine_similarity([transformed_results1[i]], [transformed_results1[0]])[0][0]\n",
    "    print('-----')\n",
    "    print('Score: %.2f, Comparing Sentence: %s' % (score, news_headline))"
   ]
  },
  {
   "cell_type": "code",
   "execution_count": 24,
   "metadata": {},
   "outputs": [
    {
     "name": "stdout",
     "output_type": "stream",
     "text": [
      "Master Sentence: Web services are XML based information exchange systems that use the Internet for direct application-to-application interaction. These systems can include programs, objects, messages, or documents.\n",
      "-----\n",
      "Score: 1.00, Comparing Sentence: Web services are XML based information exchange systems that use the Internet for direct application-to-application interaction. These systems can include programs, objects, messages, or documents.\n",
      "-----\n",
      "Score: 1.00, Comparing Sentence: Web services are XML based information exchange systems that use the Internet for direct application-to-application interaction. These systems can include programs, objects, messages, or documents.\n",
      "-----\n",
      "Score: 0.12, Comparing Sentence: Web services hmm  XML based information  systems uses Internet for application interaction.it contain programs, objects, messages, or documents.\n",
      "-----\n",
      "Score: 0.00, Comparing Sentence: Web services Web services Web services XML Web services XML Internet \n"
     ]
    }
   ],
   "source": [
    "#Jaccard Similarity\n",
    "\"\"\"\n",
    "    Finding the posistion (from lookup table) of word instead of using 1 or 0\n",
    "    to prevent misleading of the meaning of \"common\" word\n",
    "\"\"\"\n",
    "\n",
    "def calculate_position(values):\n",
    "    x = []\n",
    "    for pos, matrix in enumerate(values):\n",
    "        if matrix > 0:\n",
    "            x.append(pos)\n",
    "    return x\n",
    "\n",
    "\"\"\"\n",
    "    Since scikit-learn can only compare same number of dimension of input. \n",
    "    Add padding to the shortest sentence.\n",
    "\"\"\"\n",
    "def padding(sentence1, sentence2):\n",
    "    x1 = sentence1.copy()\n",
    "    x2 = sentence2.copy()\n",
    "    \n",
    "    diff = len(x1) - len(x2)\n",
    "    \n",
    "    if diff > 0:\n",
    "        for i in range(0, diff):\n",
    "            x2.append(-1)\n",
    "    elif diff < 0:\n",
    "        for i in range(0, abs(diff)):\n",
    "            x1.append(-1)\n",
    "    \n",
    "    return x1, x2    \n",
    "\n",
    "y_actual = calculate_position(transformed_results[0])\n",
    "\n",
    "print('Master Sentence: %s' % news_headlines[0])\n",
    "for i, news_headline in enumerate(news_headlines):\n",
    "    y_compare = calculate_position(transformed_results[i])\n",
    "    x1, x2 = padding(y_actual, y_compare)\n",
    "    score = sklearn.metrics.jaccard_similarity_score(x1, x2)\n",
    "    print('-----')\n",
    "    print('Score: %.2f, Comparing Sentence: %s' % (score, news_headline))"
   ]
  },
  {
   "cell_type": "code",
   "execution_count": null,
   "metadata": {},
   "outputs": [],
   "source": []
  },
  {
   "cell_type": "code",
   "execution_count": null,
   "metadata": {},
   "outputs": [],
   "source": []
  }
 ],
 "metadata": {
  "kernelspec": {
   "display_name": "Python 3",
   "language": "python",
   "name": "python3"
  },
  "language_info": {
   "codemirror_mode": {
    "name": "ipython",
    "version": 3
   },
   "file_extension": ".py",
   "mimetype": "text/x-python",
   "name": "python",
   "nbconvert_exporter": "python",
   "pygments_lexer": "ipython3",
   "version": "3.7.3"
  }
 },
 "nbformat": 4,
 "nbformat_minor": 2
}
