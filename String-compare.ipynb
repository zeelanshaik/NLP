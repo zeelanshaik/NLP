{
 "cells": [
  {
   "cell_type": "code",
   "execution_count": 1,
   "metadata": {},
   "outputs": [
    {
     "name": "stdout",
     "output_type": "stream",
     "text": [
      "Same Strings\n"
     ]
    }
   ],
   "source": [
    "#String compare in Python example\n",
    " \n",
    " \n",
    " \n",
    "str_x = 'Hello & Welcome'\n",
    " \n",
    "str_y = 'Hello & Welcome'\n",
    " \n",
    " \n",
    " \n",
    "#comparing by ==\n",
    " \n",
    "if str_x == str_y:\n",
    " \n",
    "    print (\"Same Strings\")\n",
    " \n",
    "else:\n",
    " \n",
    "    print (\"Different Strings\")"
   ]
  },
  {
   "cell_type": "code",
   "execution_count": 2,
   "metadata": {},
   "outputs": [
    {
     "name": "stdout",
     "output_type": "stream",
     "text": [
      "     State     State_1\n",
      "0  Arizona  New Jersey\n",
      "1  Georgia     georgia\n",
      "2  Newyork     Newyork\n",
      "3  Indiana     Indiana\n",
      "4  Florida     florida\n"
     ]
    }
   ],
   "source": [
    "import pandas as pd\n",
    "import numpy as np\n",
    " \n",
    "df1 = {\n",
    "    'State':['Arizona','Georgia','Newyork','Indiana','Florida'],\n",
    "    'State_1':['New Jersey','georgia','Newyork','Indiana','florida']}\n",
    " \n",
    "df1 = pd.DataFrame(df1,columns=['State','State_1'])\n",
    "print(df1)"
   ]
  },
  {
   "cell_type": "code",
   "execution_count": 4,
   "metadata": {},
   "outputs": [
    {
     "name": "stdout",
     "output_type": "stream",
     "text": [
      "Enter First String? Arizona\n"
     ]
    }
   ],
   "source": [
    "question = input(\"Enter First String? \")\n",
    "ques=pd.DataFrame([question],columns=['ques'])"
   ]
  },
  {
   "cell_type": "code",
   "execution_count": 5,
   "metadata": {},
   "outputs": [
    {
     "name": "stdout",
     "output_type": "stream",
     "text": [
      "(1, 1)\n",
      "Index(['ques'], dtype='object')\n"
     ]
    },
    {
     "data": {
      "text/html": [
       "<div>\n",
       "<style scoped>\n",
       "    .dataframe tbody tr th:only-of-type {\n",
       "        vertical-align: middle;\n",
       "    }\n",
       "\n",
       "    .dataframe tbody tr th {\n",
       "        vertical-align: top;\n",
       "    }\n",
       "\n",
       "    .dataframe thead th {\n",
       "        text-align: right;\n",
       "    }\n",
       "</style>\n",
       "<table border=\"1\" class=\"dataframe\">\n",
       "  <thead>\n",
       "    <tr style=\"text-align: right;\">\n",
       "      <th></th>\n",
       "      <th>ques</th>\n",
       "    </tr>\n",
       "  </thead>\n",
       "  <tbody>\n",
       "    <tr>\n",
       "      <th>0</th>\n",
       "      <td>Arizona</td>\n",
       "    </tr>\n",
       "  </tbody>\n",
       "</table>\n",
       "</div>"
      ],
      "text/plain": [
       "      ques\n",
       "0  Arizona"
      ]
     },
     "execution_count": 5,
     "metadata": {},
     "output_type": "execute_result"
    }
   ],
   "source": [
    "print(ques.shape)\n",
    "print(ques.columns)\n",
    "ques"
   ]
  },
  {
   "cell_type": "code",
   "execution_count": 10,
   "metadata": {},
   "outputs": [
    {
     "name": "stdout",
     "output_type": "stream",
     "text": [
      "     State     State_1\n",
      "0  Arizona  New Jersey\n",
      "1  Georgia     georgia\n",
      "2  Newyork     Newyork\n",
      "3  Indiana     Indiana\n",
      "4  Florida     florida\n",
      "   is_equal\n",
      "0      True\n",
      "1     False\n",
      "2     False\n",
      "3     False\n",
      "4     False\n",
      "     State     State_1\n",
      "0  Arizona  New Jersey\n"
     ]
    }
   ],
   "source": [
    "dfnew=pd.DataFrame()\n",
    "dfnew1=pd.DataFrame()\n",
    "dfnew['is_equal']= df1['State'].isin(ques['ques'])\n",
    "dfnew1 = df1[df1['State'].isin(ques['ques'])]\n",
    "print(df1)\n",
    "print(dfnew)\n",
    "print(dfnew1)"
   ]
  },
  {
   "cell_type": "code",
   "execution_count": null,
   "metadata": {},
   "outputs": [],
   "source": []
  }
 ],
 "metadata": {
  "kernelspec": {
   "display_name": "Python 3",
   "language": "python",
   "name": "python3"
  },
  "language_info": {
   "codemirror_mode": {
    "name": "ipython",
    "version": 3
   },
   "file_extension": ".py",
   "mimetype": "text/x-python",
   "name": "python",
   "nbconvert_exporter": "python",
   "pygments_lexer": "ipython3",
   "version": "3.7.3"
  }
 },
 "nbformat": 4,
 "nbformat_minor": 2
}
