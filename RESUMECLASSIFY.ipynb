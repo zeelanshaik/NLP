{
 "cells": [
  {
   "cell_type": "code",
   "execution_count": 126,
   "metadata": {},
   "outputs": [],
   "source": [
    "import logging\n",
    "import pandas as pd\n",
    "import numpy as np\n",
    "from numpy import random\n",
    "import gensim\n",
    "import nltk\n",
    "from sklearn.model_selection import train_test_split\n",
    "from sklearn.feature_extraction.text import CountVectorizer, TfidfVectorizer\n",
    "from sklearn.metrics import accuracy_score, confusion_matrix\n",
    "import matplotlib.pyplot as plt\n",
    "from nltk.corpus import stopwords\n",
    "import re\n",
    "from bs4 import BeautifulSoup\n",
    "\n",
    "%matplotlib inline\n",
    "%matplotlib inline\n",
    "from yellowbrick.text import FreqDistVisualizer"
   ]
  },
  {
   "cell_type": "code",
   "execution_count": 128,
   "metadata": {},
   "outputs": [
    {
     "data": {
      "text/html": [
       "<div>\n",
       "<style scoped>\n",
       "    .dataframe tbody tr th:only-of-type {\n",
       "        vertical-align: middle;\n",
       "    }\n",
       "\n",
       "    .dataframe tbody tr th {\n",
       "        vertical-align: top;\n",
       "    }\n",
       "\n",
       "    .dataframe thead th {\n",
       "        text-align: right;\n",
       "    }\n",
       "</style>\n",
       "<table border=\"1\" class=\"dataframe\">\n",
       "  <thead>\n",
       "    <tr style=\"text-align: right;\">\n",
       "      <th></th>\n",
       "      <th>R_context</th>\n",
       "      <th>Filename</th>\n",
       "      <th>number_of_words</th>\n",
       "      <th>Label</th>\n",
       "    </tr>\n",
       "  </thead>\n",
       "  <tbody>\n",
       "    <tr>\n",
       "      <th>0</th>\n",
       "      <td>b\"Abdul Sattar Syed  224-229-0646  sattar419@y...</td>\n",
       "      <td>C:\\TextMining\\Input\\Single\\Abdul Syed resume.docx</td>\n",
       "      <td>1445</td>\n",
       "      <td>INFORMATICA</td>\n",
       "    </tr>\n",
       "    <tr>\n",
       "      <th>1</th>\n",
       "      <td>b'Abdul Khadir  Banaswadi | Bangalore, India  ...</td>\n",
       "      <td>C:\\TextMining\\Input\\Single\\Abdul_khadir_Bengal...</td>\n",
       "      <td>1798</td>\n",
       "      <td>DATASCIENCE</td>\n",
       "    </tr>\n",
       "    <tr>\n",
       "      <th>2</th>\n",
       "      <td>[]  Abhishek Prasad       Address:   Vaastu La...</td>\n",
       "      <td>C:\\TextMining\\Input\\Single\\AbhishekPrasad[3_0]...</td>\n",
       "      <td>616</td>\n",
       "      <td>UI</td>\n",
       "    </tr>\n",
       "    <tr>\n",
       "      <th>3</th>\n",
       "      <td>b\"RESUME  \\t  \\tAhamed Ac  \\tEmail: acahamed57...</td>\n",
       "      <td>C:\\TextMining\\Input\\Single\\Ahamed[2_4].docx</td>\n",
       "      <td>769</td>\n",
       "      <td>UI</td>\n",
       "    </tr>\n",
       "    <tr>\n",
       "      <th>4</th>\n",
       "      <td>b\"Profile Summary  \\tProfessional with around ...</td>\n",
       "      <td>C:\\TextMining\\Input\\Single\\Analytics_Datascien...</td>\n",
       "      <td>1585</td>\n",
       "      <td>DATASCIENCE</td>\n",
       "    </tr>\n",
       "    <tr>\n",
       "      <th>5</th>\n",
       "      <td>b\"Professional Summary:    Certified Advanced ...</td>\n",
       "      <td>C:\\TextMining\\Input\\Single\\Analytics_Developer...</td>\n",
       "      <td>4366</td>\n",
       "      <td>DATASCIENCE</td>\n",
       "    </tr>\n",
       "    <tr>\n",
       "      <th>6</th>\n",
       "      <td>b'RESUME    Anand A  Email     :  anandcatchme...</td>\n",
       "      <td>C:\\TextMining\\Input\\Single\\Anand_A_Informatica...</td>\n",
       "      <td>1275</td>\n",
       "      <td>INFORMATICA</td>\n",
       "    </tr>\n",
       "    <tr>\n",
       "      <th>7</th>\n",
       "      <td>ANSHUL   GUPTA   Noida, UP 201307 | 8383041105...</td>\n",
       "      <td>C:\\TextMining\\Input\\Single\\AnshulGupta[3_5].pdf</td>\n",
       "      <td>1074</td>\n",
       "      <td>UI</td>\n",
       "    </tr>\n",
       "    <tr>\n",
       "      <th>8</th>\n",
       "      <td>b\"SUMMARY     ARPIT JAIN      System Engineer ...</td>\n",
       "      <td>C:\\TextMining\\Input\\Single\\ArpitJain[4_0].docx</td>\n",
       "      <td>546</td>\n",
       "      <td>UI</td>\n",
       "    </tr>\n",
       "    <tr>\n",
       "      <th>9</th>\n",
       "      <td>b\"PROFESSIONAL EXPERIENCE    \\t\\t             ...</td>\n",
       "      <td>C:\\TextMining\\Input\\Single\\BANKAR_Sachin_EDWH_...</td>\n",
       "      <td>1282</td>\n",
       "      <td>DATASTAGE</td>\n",
       "    </tr>\n",
       "  </tbody>\n",
       "</table>\n",
       "</div>"
      ],
      "text/plain": [
       "                                           R_context  \\\n",
       "0  b\"Abdul Sattar Syed  224-229-0646  sattar419@y...   \n",
       "1  b'Abdul Khadir  Banaswadi | Bangalore, India  ...   \n",
       "2  []  Abhishek Prasad       Address:   Vaastu La...   \n",
       "3  b\"RESUME  \\t  \\tAhamed Ac  \\tEmail: acahamed57...   \n",
       "4  b\"Profile Summary  \\tProfessional with around ...   \n",
       "5  b\"Professional Summary:    Certified Advanced ...   \n",
       "6  b'RESUME    Anand A  Email     :  anandcatchme...   \n",
       "7  ANSHUL   GUPTA   Noida, UP 201307 | 8383041105...   \n",
       "8  b\"SUMMARY     ARPIT JAIN      System Engineer ...   \n",
       "9  b\"PROFESSIONAL EXPERIENCE    \\t\\t             ...   \n",
       "\n",
       "                                            Filename  number_of_words  \\\n",
       "0  C:\\TextMining\\Input\\Single\\Abdul Syed resume.docx             1445   \n",
       "1  C:\\TextMining\\Input\\Single\\Abdul_khadir_Bengal...             1798   \n",
       "2  C:\\TextMining\\Input\\Single\\AbhishekPrasad[3_0]...              616   \n",
       "3        C:\\TextMining\\Input\\Single\\Ahamed[2_4].docx              769   \n",
       "4  C:\\TextMining\\Input\\Single\\Analytics_Datascien...             1585   \n",
       "5  C:\\TextMining\\Input\\Single\\Analytics_Developer...             4366   \n",
       "6  C:\\TextMining\\Input\\Single\\Anand_A_Informatica...             1275   \n",
       "7    C:\\TextMining\\Input\\Single\\AnshulGupta[3_5].pdf             1074   \n",
       "8     C:\\TextMining\\Input\\Single\\ArpitJain[4_0].docx              546   \n",
       "9  C:\\TextMining\\Input\\Single\\BANKAR_Sachin_EDWH_...             1282   \n",
       "\n",
       "         Label  \n",
       "0  INFORMATICA  \n",
       "1  DATASCIENCE  \n",
       "2           UI  \n",
       "3           UI  \n",
       "4  DATASCIENCE  \n",
       "5  DATASCIENCE  \n",
       "6  INFORMATICA  \n",
       "7           UI  \n",
       "8           UI  \n",
       "9    DATASTAGE  "
      ]
     },
     "execution_count": 128,
     "metadata": {},
     "output_type": "execute_result"
    }
   ],
   "source": [
    "df = pd.read_csv('C:\\TextMining\\Input\\\\train_new1.csv')\n",
    "df = df[pd.notnull(df['Label'])]\n",
    "df.head(10)"
   ]
  },
  {
   "cell_type": "code",
   "execution_count": 129,
   "metadata": {},
   "outputs": [
    {
     "name": "stdout",
     "output_type": "stream",
     "text": [
      "Index(['R_context', 'Filename', 'number_of_words', 'Label'], dtype='object')\n"
     ]
    }
   ],
   "source": [
    "print(df.columns)"
   ]
  },
  {
   "cell_type": "code",
   "execution_count": 130,
   "metadata": {},
   "outputs": [
    {
     "data": {
      "text/plain": [
       "0     b\"Abdul Sattar Syed  224-229-0646  sattar419@y...\n",
       "1     b'Abdul Khadir  Banaswadi | Bangalore, India  ...\n",
       "2     []  Abhishek Prasad       Address:   Vaastu La...\n",
       "3     b\"RESUME  \\t  \\tAhamed Ac  \\tEmail: acahamed57...\n",
       "4     b\"Profile Summary  \\tProfessional with around ...\n",
       "5     b\"Professional Summary:    Certified Advanced ...\n",
       "6     b'RESUME    Anand A  Email     :  anandcatchme...\n",
       "7     ANSHUL   GUPTA   Noida, UP 201307 | 8383041105...\n",
       "8     b\"SUMMARY     ARPIT JAIN      System Engineer ...\n",
       "9     b\"PROFESSIONAL EXPERIENCE    \\t\\t             ...\n",
       "10    b\"Arjun Baredi\\t\\t\\t\\t     \\t  \\t\\t      Email...\n",
       "11    b'Abdul Khadir  Banaswadi | Bangalore, India  ...\n",
       "12    b\"Bindu Madhavi Garimidi  putta.informatica@gm...\n",
       "13    b'Email id: BINOD.KR99@GMAIL.COM  Cell: +91-90...\n",
       "14    b\"Birendra Kumar Shaw\\t\\t\\t\\tE-mail:krshaw.bir...\n",
       "15    b\"Chetan M Mangsuli  chetanmangsuli84@gmail.co...\n",
       "16    b\"RESUME      MOHAMMED AMIR BAGALI\\t\\t\\t\\t\\t\\t...\n",
       "17    b\"Deepak Kumar Das                            ...\n",
       "18    b\"DEEPAK P                                    ...\n",
       "19    b\"Greeva K Patel  \\t850-866-4991  \\tgreevakpat...\n",
       "20    b\"Dibyalochan Das  Email:dibyalochan.das@gmail...\n",
       "21    b\"D NAGA RAJU  \\t                             ...\n",
       "22    b'JHAGAN G A                                Em...\n",
       "23    b'GIRIDHAR  Email: giridhar.0836@gmail.com  Ph...\n",
       "24    b\"Jan Bachok  jbachok@gmail.com  973-650-3619 ...\n",
       "25    b'Karthick Arunachalam                        ...\n",
       "26    b'Muniyappan  \\t\\t\\t                          ...\n",
       "27    b'SIDDHANT MIRJI  Contact: smirji@yahoo.com   ...\n",
       "28    b'SOUMADEEP DAS  MOB: +91- 7808312217  Email I...\n",
       "29    b\"SRILAXMI NEMANI                             ...\n",
       "30    b'Srujana sryada15@gmail.com (414) 369-2745   ...\n",
       "31    b'Sushma Kondapalli  Cumming, GA    SUPPLIER C...\n",
       "32    b'Katta Saikrishna Reddy  Mobile: +91 63092907...\n",
       "33                          1             Name   Khy...\n",
       "34    b\"Mohammed Nizamuddin  E-mail: mohd.dwh@gmail....\n",
       "35    b'4                Devratan Sharma            ...\n",
       "36    b'RESUME  \\t\\t\\t\\t\\t\\t\\t\\t\\t\\t                ...\n",
       "37    b'Nisha Kumari\\t\\t\\t\\t\\t                      ...\n",
       "38    b'NIVEDIKA                                    ...\n",
       "39    b'Paramaguru Subramaniyam  Chennai \\xc2\\xb7 +9...\n",
       "40    b\"Phani. G  +91-9123584487\\t\\t\\t\\t            ...\n",
       "41    b'Prabulingam S\\t\\t\\t\\t\\t  \\te-Mail: prabupand...\n",
       "42    b'2  \\t\\t  \\t\\t1  \\t\\t  \\xe2\\x80\\x8d\\xe2\\x80\\x...\n",
       "43        Priyanka Ravichandra n   Java Spring Full ...\n",
       "44    b'Dinesh Kumar N  SUMMARY OF QUALIFICATIONS:  ...\n",
       "45    b'Kiruthika Praveen\\t                         ...\n",
       "46    b'HARI RAJ C                                 M...\n",
       "47    b\"Siddhartha M  Email ID:meetsidhusas@gmail.co...\n",
       "48    b\"Nithya Nagarajan      Experience Digest:  Ex...\n",
       "49    b'Name: Saravanakumar.P      Resume  CAREER OB...\n",
       "50    b'Sourav Patro \\xe2\\x80\\x93 Technology Analyst...\n",
       "51    b'Technical Lead (HCL Technologies)  Saravanan...\n",
       "52    b'SAS PROGRAMMER  \\t Sekhar                   ...\n",
       "53    b'Soumya Devadiga\\t\\t\\t\\t\\tSoumya.mdevadiga@gm...\n",
       "54    b\"SWARAJ SHARMA  \\t  \\tGSM : +91-9953984342   ...\n",
       "55    b'Thejeshwar M.P   E-mail: thejamp666@gmail.co...\n",
       "56    b\"UMA SHANKER SAINI\\t                         ...\n",
       "57    b'VENKATESH. P        PHONE: +91-9515776328   ...\n",
       "58    b\"Viraj  Patil  Technical Associate \\xe2\\x80\\x...\n",
       "59    b'Vishal Dhakla    Email:vishaldhakla@gmail.co...\n",
       "Name: R_context, dtype: object"
      ]
     },
     "execution_count": 130,
     "metadata": {},
     "output_type": "execute_result"
    }
   ],
   "source": [
    "df['R_context'].replace('\\\\t\\t', '').replace('\\n', '')\n",
    "df['R_context'].replace('\\t*', '').replace('\\n', '')\n",
    "df['R_context'].astype(str)"
   ]
  },
  {
   "cell_type": "code",
   "execution_count": 131,
   "metadata": {},
   "outputs": [
    {
     "data": {
      "text/plain": [
       "80446"
      ]
     },
     "execution_count": 131,
     "metadata": {},
     "output_type": "execute_result"
    }
   ],
   "source": [
    "df['R_context'].apply(lambda x: len(str(x).split())).sum()\n",
    "#df['number_of_words1'] = df.R_context.apply(lambda x: len(x.split()))"
   ]
  },
  {
   "cell_type": "code",
   "execution_count": 132,
   "metadata": {},
   "outputs": [
    {
     "data": {
      "image/png": "[encoded data removed]",
      "text/plain": [
       "<Figure size 864x360 with 1 Axes>"
      ]
     },
     "metadata": {},
     "output_type": "display_data"
    }
   ],
   "source": [
    "\n",
    "my_tags = ['Infromatica','SAS','DataStage','UI','DataScience','BigData']\n",
    "plt.figure(figsize=(12,5))\n",
    "df.Label.value_counts().plot(kind='bar');"
   ]
  },
  {
   "cell_type": "code",
   "execution_count": 133,
   "metadata": {},
   "outputs": [],
   "source": [
    "def print_plot(index):\n",
    "    example = df[df.index == index][['R_context', 'Label']].values[0]\n",
    "    if len(example) > 0:\n",
    "        print(example[0])\n",
    "        print('Tag:', example[1])"
   ]
  },
  {
   "cell_type": "code",
   "execution_count": 134,
   "metadata": {},
   "outputs": [
    {
     "name": "stdout",
     "output_type": "stream",
     "text": [
      "b\"Arjun Baredi\\t\\t\\t\\t     \\t  \\t\\t      Email id: barediarjun1@gmail.com \\t\\t\\t\\t\\t\\t\\t\\t\\t      Mobile No: +91 8688027125     Professional Summary:  Having around 3+ years of experience in Hadoop, Spark, and Related Ecosystems.  Practical exposure and strong knowledge in Spark with Scala.  Strong knowledge of Hadoop (HDFS), Hive, MapReduce, YARN, SQOOP, HBase, Zookeeper, Flume, and Oozie.  Hands on experience in writing hive queries using Hive Query Language.  Experience with excel (csv), Json and xml files.  Experience in semi-structured data processing in Hive.  Experience with Hive queries performance tuning.  Writing RDD\\xe2\\x80\\x99s and Data frames to perform faster Data analysis using Spark.  Involved in creating tables, partitioning, bucketing of table in hive.  Importing and exporting the data from Database to HDFS using Sqoop.  Accessed the streaming data from various sources and pushed to Hdfs by using Flume   Involved in Integrations like a hive with Hbase, flume with spark and Spark with Hive.  Involved in Random and real-time read/write access using NoSql like HBase.  Good knowledge in spark architecture and Execution model.  Good understanding of RDBMS and SQL through Database Design, writing queries using database   Like Oracle and Mysql.  Ability to learn new technologies and to deliver outputs in short deadlines.  Excellent communication, presentation, and interpersonal skills.  Good hands on experience on VCS(GIT) and web hosted server github.  Good hands on experience on Android development.    Technical Skills:    BigData Technologies\\t:    \\tSpark, Scala, Hadoop, MapReduce, HDFS, \\t\\t\\t\\t\\t\\t\\t\\tHive, Pig, Sqoop, Flume, Kafka and Oozie.  NoSQL Databases\\t\\t:\\tHbase, Cassandra.  Languages\\t\\t\\t:\\tScala, basic java and SQL   \\t\\t\\t\\t\\t\\t\\tIDE\\t\\t\\t\\t:\\tEclipse   \\t\\t\\t\\t\\t\\t\\tTools\\t\\t\\t:\\tMaven, Git and Sbt\\t   Operating Systems                :        \\tWindows, Linux/Unix    Work Experience:  Working as a Hadoop and Spark Developer in Tech Mahindra India Ltd  since Mar 2016 to till date    \\t#PROJECT 1    Project Name \\t\\t\\t: \\tAnalysis of Retail store Data  Client\\t\\t\\t\\t:\\tWoolworths  Duration\\t\\t\\t:\\tJune 2018- Till date  Environment\\t\\t:\\tSpark, SparkSQL, Scala, Hadoop, Hive, SQOOP, Mysql,\\t\\t\\t\\t Flume and CDH.    Description:  \\tPurpose of this project is to store large datasets and to perform data analysis on the retail data available from a retail company. One of the key things we focus at WOOLWORTHS provides a unique and personalized customer experience when the user shops at our website or using mobile application. This means understanding customer\\xe2\\x80\\x99s reviews and ratings are key.    Roles and Responsibilities:  Importing Data from RDBMS to HDFS and Exporting data from HDFS to RDBMS using Sqoop.  Saving user clicks details from Web Servers to HDFS using Flume.  Transferred all log and text files generated by various products into HDFS location.\\xc2\\xa0  Extensively worked on Spark Data frames, SparkSQL using Scala.  Developed Data Frames, Case classes for the required input data and performed the data transformations using SparkCore.  Used SparkSQL to process the huge amount of structured data to perform SQL operations.  Used Partitioning and Bucketing techniques in the hive to improve the performance.  Experienced in handling large datasets using Partitions, Spark in-memory capabilities, Effective & efficient joins Transformations and other during Ingestion process itself.      \\t#PROJECT 2\\t  Project Name \\t\\t: \\tE-commerce sentimental analysis on Product-based.  Duration\\t\\t:\\tMar 2016 \\xe2\\x80\\x93 May 2018  Client\\t\\t\\t:\\tG'Five International Limited  Environment\\t\\t:\\tHadoop, Hive, SQOOP, MapReduce, HDFS, Flume, \\t\\t\\t\\t\\t\\t\\tHBase, Mysql and CDH  Description:                    The purpose of the project is to store log information generated by the e-commerce website and extract meaning information out of it. The data includes the raw data and structured data (about product sales information). The main goal of this project is analyzed and processes the data as per client requirement. By this information, the client will know that where their product is lacking in sales and also know the customers\\xe2\\x80\\x99 expectations.    Roles and Responsibilities:  Importing the data from Database to HDFS using Sqoop.  Using flume accessed the streaming data and sent into Hdfs storage.  Used the RegEx, JSON and Avro SerDe's for serialization and de-serialization packaged with Hive to parse the contents of streamed log data.\\xc2\\xa0  Develop hive queries/ adhoc scripts for creating the table structures and loading the data into\\xc2\\xa0hive\\xc2\\xa0tables which resides on top of HADOOP.\\xc2\\xa0  Implemented Hive tables and HQL Queries for the reports. Written and used complex data type in Hive. Storing and retrieved data using HQL in Hive.   Involved in creating tables, partitioning, bucketing of tables in Hive.   \\tWritten Hive queries for data analysis to meet the business requirements.  \\tInteracted with Testing Team to make them understand the business requirements and issues.\\xc2\\xa0  \\tInvolved in Bug Fixing and Production Support.\\xc2\\xa0  \\tInvolved in Random and real-time read/write access using HBase.  \\t  Educational Background:  Bachelor of Engineering in Information Technology from MVSR Engineering college affiliated to Osmania University    Declaration:  \\tI here by declare that all the above information is true and correct to the best of my knowledge.        Date:-   Location: - Hyderabad.\\t\\t\\t\\t\\t\\t\\t\\tArjun Baredi\"\n",
      "Tag: BigData\n"
     ]
    }
   ],
   "source": [
    "\n",
    "print_plot(10)"
   ]
  },
  {
   "cell_type": "code",
   "execution_count": 119,
   "metadata": {},
   "outputs": [],
   "source": [
    "#df['R_context'] = df['R_context'].str.replace('\\t*', '')"
   ]
  },
  {
   "cell_type": "code",
   "execution_count": 135,
   "metadata": {},
   "outputs": [
    {
     "data": {
      "image/png": "[encoded data removed]",
      "text/plain": [
       "<Figure size 864x576 with 1 Axes>"
      ]
     },
     "metadata": {},
     "output_type": "display_data"
    },
    {
     "data": {
      "text/plain": [
       "<matplotlib.axes._subplots.AxesSubplot at 0x14d1df12780>"
      ]
     },
     "execution_count": 135,
     "metadata": {},
     "output_type": "execute_result"
    }
   ],
   "source": [
    "#Visualize Token (vocabulary) Frequency Distribution Before Text Preprocessing\n",
    "vectorizer = CountVectorizer()\n",
    "docs       = vectorizer.fit_transform(df['R_context'])\n",
    "features   = vectorizer.get_feature_names()\n",
    "plt.figure(figsize=(12,8))\n",
    "visualizer = FreqDistVisualizer(features=features)\n",
    "visualizer.fit(docs)\n",
    "for label in visualizer.ax.texts:\n",
    "    label.set_size(20)\n",
    "visualizer.poof()"
   ]
  },
  {
   "cell_type": "code",
   "execution_count": 136,
   "metadata": {},
   "outputs": [],
   "source": [
    "\n",
    "REPLACE_BY_SPACE_RE = re.compile('[/(){}\\[\\]\\|@,;]')\n",
    "BAD_SYMBOLS_RE = re.compile('[^0-9a-z #+_]')\n",
    "STOPWORDS = set(stopwords.words('english'))\n",
    "\n",
    "def clean_text(text):\n",
    "    \"\"\"\n",
    "        text: a string\n",
    "        \n",
    "        return: modified initial string\n",
    "    \"\"\"\n",
    "    #text = BeautifulSoup(text, \"lxml\").text # HTML decoding\n",
    "    text = text.lower() # lowercase text\n",
    "    text = REPLACE_BY_SPACE_RE.sub(' ', text) # replace REPLACE_BY_SPACE_RE symbols by space in text\n",
    "    text = BAD_SYMBOLS_RE.sub('', text) # delete symbols which are in BAD_SYMBOLS_RE from text\n",
    "    text = ' '.join(word for word in text.split() if word not in STOPWORDS) # delete stopwors from text\n",
    "    return text"
   ]
  },
  {
   "cell_type": "code",
   "execution_count": 137,
   "metadata": {},
   "outputs": [],
   "source": [
    "#df['R_context'] = df['R_context'].str.replace('t*tt*', '')\n",
    "df['R_context'] = (df['R_context']).apply(clean_text)"
   ]
  },
  {
   "cell_type": "code",
   "execution_count": 123,
   "metadata": {},
   "outputs": [
    {
     "name": "stdout",
     "output_type": "stream",
     "text": [
      "barjun baredi email id barediarjun1 gmailcom mobile +91 8688027125 professional summary around 3+ years experience hadoop spark relaed ecosysems pracical exposure srong knowledge spark scala srong knowledge hadoop hdfs hive mapreduce yarn sqoop hbase zookeeper flume oozie hands experience wriing hive queries using hive query language experience excel csv json xml files experience semisrucured daa processing hive experience hive queries performance uning wriing rddxe2x80x99s daa frames perform faser daa analysis using spark involved creaing ables pariioning buckeing able hive imporing exporing daa daabase hdfs using sqoop accessed sreaming daa various sources pushed hdfs using flume involved inegraions like hive hbase flume spark spark hive involved random realime read wrie access using nosql like hbase good knowledge spark archiecure execuion model good undersanding rdbms sql daabase design wriing queries using daabase like oracle mysql abiliy learn new echnologies deliver oupus shor deadlines excellen communicaion presenaion inerpersonal skills good hands experience vcs gi web hosed server gihub good hands experience android developmen echnical skills bigdaa echnologies spark scala hadoop mapreduce hdfs hive pig sqoop flume kafka oozie nosql daabaseshbase cassandra languagesscala basic java sql ideeclipse oolsmaven gi sb operaing sysems windows linux unix work experience working hadoop spark developer ech mahindra india ld since mar 2016 ill dae #projec 1 projec name analysis reail sore daa clienwoolworhs duraionjune 2018 ill dae environmenspark sparksql scala hadoop hive sqoop mysql flume cdh descripion purpose projec sore large daases perform daa analysis reail daa available reail company one key hings focus woolworhs provides unique personalized cusomer experience user shops websie using mobile applicaion means undersanding cusomerxe2x80x99s reviews raings key roles responsibiliies imporing daa rdbms hdfs exporing daa hdfs rdbms using sqoop saving user clicks deails web servers hdfs using flume ransferred log ex files generaed various producs hdfs locaionxc2xa0 exensively worked spark daa frames sparksql using scala developed daa frames case classes required inpu daa performed daa ransformaions using sparkcore used sparksql process huge amoun srucured daa perform sql operaions used pariioning buckeing echniques hive improve performance experienced handling large daases using pariions spark inmemory capabiliies effecive efficien joins ransformaions ingesion process #projec 2 projec name ecommerce senimenal analysis producbased duraionmar 2016 xe2x80x93 may 2018 cliengfive inernaional limied environmenhadoop hive sqoop mapreduce hdfs flume hbase mysql cdh descripion purpose projec sore log informaion generaed ecommerce websie exrac meaning informaion daa includes raw daa srucured daa produc sales informaion main goal projec analyzed processes daa per clien requiremen informaion clien know produc lacking sales also know cusomersxe2x80x99 expecaions roles responsibiliies imporing daa daabase hdfs using sqoop using flume accessed sreaming daa sen hdfs sorage used regex json avro serdes serializaion deserializaion packaged hive parse conens sreamed log daaxc2xa0 develop hive queries adhoc scrips creaing able srucures loading daa inoxc2xa0hivexc2xa0ables resides op hadoopxc2xa0 implemened hive ables hql queries repors wrien used complex daa ype hive soring rerieved daa using hql hive involved creaing ables pariioning buckeing ables hive wrien hive queries daa analysis mee business requiremens ineraced esing eam make undersand business requiremens issuesxc2xa0 involved bug fixing producion supporxc2xa0 involved random realime read wrie access using hbase educaional background bachelor engineering informaion echnology mvsr engineering college affiliaed osmania universiy declaraion declare informaion rue correc bes knowledge dae locaion hyderabadarjun baredi\n",
      "Tag: BigData\n"
     ]
    }
   ],
   "source": [
    "print_plot(10)"
   ]
  },
  {
   "cell_type": "code",
   "execution_count": 138,
   "metadata": {},
   "outputs": [
    {
     "data": {
      "text/plain": [
       "60221"
      ]
     },
     "execution_count": 138,
     "metadata": {},
     "output_type": "execute_result"
    }
   ],
   "source": [
    "df['R_context'].apply(lambda x: len(x.split(' '))).sum()"
   ]
  },
  {
   "cell_type": "code",
   "execution_count": 139,
   "metadata": {},
   "outputs": [
    {
     "data": {
      "image/png": "[encoded data removed]",
      "text/plain": [
       "<Figure size 864x576 with 1 Axes>"
      ]
     },
     "metadata": {},
     "output_type": "display_data"
    },
    {
     "data": {
      "text/plain": [
       "<matplotlib.axes._subplots.AxesSubplot at 0x14d1e1c8be0>"
      ]
     },
     "execution_count": 139,
     "metadata": {},
     "output_type": "execute_result"
    }
   ],
   "source": [
    "#Visualize Token Frequency Distribution After Text Preprocessing\n",
    "vectorizer = CountVectorizer()\n",
    "docs       = vectorizer.fit_transform(df['R_context'])\n",
    "features   = vectorizer.get_feature_names()\n",
    "plt.figure(figsize=(12,8))\n",
    "visualizer = FreqDistVisualizer(features=features)\n",
    "visualizer.fit(docs)\n",
    "for label in visualizer.ax.texts:\n",
    "    label.set_size(20)\n",
    "visualizer.poof()"
   ]
  },
  {
   "cell_type": "code",
   "execution_count": 110,
   "metadata": {},
   "outputs": [],
   "source": [
    "X = df.R_context\n",
    "y = df.Label\n",
    "X_train, X_test, y_train, y_test = train_test_split(X, y, test_size=0.3, random_state = 42)"
   ]
  },
  {
   "cell_type": "code",
   "execution_count": 111,
   "metadata": {},
   "outputs": [
    {
     "data": {
      "text/plain": [
       "Pipeline(memory=None,\n",
       "     steps=[('vect', CountVectorizer(analyzer='word', binary=False, decode_error='strict',\n",
       "        dtype=<class 'numpy.int64'>, encoding='utf-8', input='content',\n",
       "        lowercase=True, max_df=1.0, max_features=None, min_df=1,\n",
       "        ngram_range=(1, 1), preprocessor=None, stop_words=None,\n",
       "        strip...inear_tf=False, use_idf=True)), ('clf', MultinomialNB(alpha=1.0, class_prior=None, fit_prior=True))])"
      ]
     },
     "execution_count": 111,
     "metadata": {},
     "output_type": "execute_result"
    }
   ],
   "source": [
    "#Naive Bayes classifier for multinomial models\n",
    "\n",
    "from sklearn.naive_bayes import MultinomialNB\n",
    "from sklearn.pipeline import Pipeline\n",
    "from sklearn.feature_extraction.text import TfidfTransformer\n",
    "\n",
    "nb = Pipeline([('vect', CountVectorizer()),\n",
    "               ('tfidf', TfidfTransformer()),\n",
    "               ('clf', MultinomialNB()),\n",
    "              ])\n",
    "nb.fit(X_train, y_train)"
   ]
  },
  {
   "cell_type": "code",
   "execution_count": 140,
   "metadata": {},
   "outputs": [
    {
     "name": "stdout",
     "output_type": "stream",
     "text": [
      "accuracy 0.6666666666666666\n",
      "              precision    recall  f1-score   support\n",
      "\n",
      " Infromatica       1.00      1.00      1.00         1\n",
      "         SAS       0.50      0.50      0.50         2\n",
      "   DataStage       0.00      0.00      0.00         4\n",
      "          UI       0.50      1.00      0.67         4\n",
      " DataScience       0.80      0.80      0.80         5\n",
      "     BigData       1.00      1.00      1.00         2\n",
      "\n",
      "   micro avg       0.67      0.67      0.67        18\n",
      "   macro avg       0.63      0.72      0.66        18\n",
      "weighted avg       0.56      0.67      0.59        18\n",
      "\n"
     ]
    },
    {
     "name": "stderr",
     "output_type": "stream",
     "text": [
      "C:\\ProgramData\\Anaconda3\\lib\\site-packages\\sklearn\\metrics\\classification.py:1143: UndefinedMetricWarning: Precision and F-score are ill-defined and being set to 0.0 in labels with no predicted samples.\n",
      "  'precision', 'predicted', average, warn_for)\n"
     ]
    }
   ],
   "source": [
    "\n",
    "#Naive Bayes classifier for multinomial models\n",
    "from sklearn.metrics import classification_report\n",
    "y_pred = nb.predict(X_test)\n",
    "\n",
    "print('accuracy %s' % accuracy_score(y_pred, y_test))\n",
    "print(classification_report(y_test, y_pred,target_names=my_tags))"
   ]
  },
  {
   "cell_type": "code",
   "execution_count": 142,
   "metadata": {},
   "outputs": [
    {
     "data": {
      "text/plain": [
       "array(['INFORMATICA', 'SAS', 'INFORMATICA', 'SAS', 'INFORMATICA', 'SAS',\n",
       "       'INFORMATICA', 'SAS', 'INFORMATICA', 'DATASCIENCE', 'SAS',\n",
       "       'BigData', 'INFORMATICA', 'UI', 'DATASCIENCE', 'INFORMATICA', 'UI',\n",
       "       'INFORMATICA'], dtype='<U11')"
      ]
     },
     "execution_count": 142,
     "metadata": {},
     "output_type": "execute_result"
    }
   ],
   "source": [
    "y_pred"
   ]
  },
  {
   "cell_type": "code",
   "execution_count": 143,
   "metadata": {},
   "outputs": [
    {
     "data": {
      "text/plain": [
       "0     INFORMATICA\n",
       "5     DATASCIENCE\n",
       "36      DATASTAGE\n",
       "45            SAS\n",
       "13      DATASTAGE\n",
       "54            SAS\n",
       "33      DATASTAGE\n",
       "48            SAS\n",
       "12    INFORMATICA\n",
       "57    DATASCIENCE\n",
       "46            SAS\n",
       "50        BigData\n",
       "31    INFORMATICA\n",
       "3              UI\n",
       "52            SAS\n",
       "17      DATASTAGE\n",
       "8              UI\n",
       "6     INFORMATICA\n",
       "Name: Label, dtype: object"
      ]
     },
     "execution_count": 143,
     "metadata": {},
     "output_type": "execute_result"
    }
   ],
   "source": [
    "y_test"
   ]
  },
  {
   "cell_type": "code",
   "execution_count": 144,
   "metadata": {},
   "outputs": [
    {
     "name": "stdout",
     "output_type": "stream",
     "text": [
      "R_context:   tag: DATASCIENCE tag_pred: SAS\n",
      "R_context:   tag: DATASTAGE tag_pred: INFORMATICA\n",
      "R_context:   tag: DATASTAGE tag_pred: INFORMATICA\n",
      "R_context:   tag: DATASTAGE tag_pred: INFORMATICA\n",
      "R_context:   tag: SAS tag_pred: DATASCIENCE\n",
      "R_context:   tag: DATASTAGE tag_pred: INFORMATICA\n"
     ]
    }
   ],
   "source": [
    "#Misclassified:\n",
    "for x, y, y_hat in zip(X_test, y_test, y_pred):\n",
    "    if y != y_hat:\n",
    "        #print(f'R_context: {x} tag: {y} tag_pred: {y_hat}')print(f'R_context: {x} tag: {y} tag_pred: {y_hat}')\n",
    "         print(f'R_context:   tag: {y} tag_pred: {y_hat}')"
   ]
  },
  {
   "cell_type": "code",
   "execution_count": 145,
   "metadata": {},
   "outputs": [
    {
     "name": "stderr",
     "output_type": "stream",
     "text": [
      "C:\\ProgramData\\Anaconda3\\lib\\site-packages\\sklearn\\linear_model\\stochastic_gradient.py:183: FutureWarning: max_iter and tol parameters have been added in SGDClassifier in 0.19. If max_iter is set but tol is left unset, the default value for tol in 0.19 and 0.20 will be None (which is equivalent to -infinity, so it has no effect) but will change in 0.21 to 1e-3. Specify tol to silence this warning.\n",
      "  FutureWarning)\n"
     ]
    },
    {
     "data": {
      "text/plain": [
       "Pipeline(memory=None,\n",
       "     steps=[('vect', CountVectorizer(analyzer='word', binary=False, decode_error='strict',\n",
       "        dtype=<class 'numpy.int64'>, encoding='utf-8', input='content',\n",
       "        lowercase=True, max_df=1.0, max_features=None, min_df=1,\n",
       "        ngram_range=(1, 1), preprocessor=None, stop_words=None,\n",
       "        strip...dom_state=42, shuffle=True, tol=None,\n",
       "       validation_fraction=0.1, verbose=0, warm_start=False))])"
      ]
     },
     "execution_count": 145,
     "metadata": {},
     "output_type": "execute_result"
    }
   ],
   "source": [
    "#Linear support vector machine\n",
    "\n",
    "from sklearn.linear_model import SGDClassifier\n",
    "\n",
    "sgd = Pipeline([('vect', CountVectorizer()),\n",
    "                ('tfidf', TfidfTransformer()),\n",
    "                ('clf', SGDClassifier(loss='hinge', penalty='l2',alpha=1e-3, random_state=42, max_iter=5, tol=None)),\n",
    "               ])\n",
    "sgd.fit(X_train, y_train)"
   ]
  },
  {
   "cell_type": "code",
   "execution_count": 146,
   "metadata": {},
   "outputs": [
    {
     "name": "stdout",
     "output_type": "stream",
     "text": [
      "accuracy 0.8888888888888888\n",
      "              precision    recall  f1-score   support\n",
      "\n",
      " Infromatica       1.00      1.00      1.00         1\n",
      "         SAS       0.00      0.00      0.00         2\n",
      "   DataStage       1.00      1.00      1.00         4\n",
      "          UI       1.00      1.00      1.00         4\n",
      " DataScience       0.71      1.00      0.83         5\n",
      "     BigData       1.00      1.00      1.00         2\n",
      "\n",
      "   micro avg       0.89      0.89      0.89        18\n",
      "   macro avg       0.79      0.83      0.81        18\n",
      "weighted avg       0.81      0.89      0.84        18\n",
      "\n"
     ]
    }
   ],
   "source": [
    "y_pred = sgd.predict(X_test)\n",
    "\n",
    "print('accuracy %s' % accuracy_score(y_pred, y_test))\n",
    "print(classification_report(y_test, y_pred,target_names=my_tags))"
   ]
  },
  {
   "cell_type": "code",
   "execution_count": 147,
   "metadata": {},
   "outputs": [
    {
     "name": "stdout",
     "output_type": "stream",
     "text": [
      "R_context:   tag: DATASCIENCE tag_pred: SAS\n",
      "R_context:   tag: DATASCIENCE tag_pred: SAS\n"
     ]
    }
   ],
   "source": []
  },
  {
   "cell_type": "code",
   "execution_count": 148,
   "metadata": {},
   "outputs": [
    {
     "name": "stderr",
     "output_type": "stream",
     "text": [
      "C:\\ProgramData\\Anaconda3\\lib\\site-packages\\sklearn\\linear_model\\logistic.py:433: FutureWarning: Default solver will be changed to 'lbfgs' in 0.22. Specify a solver to silence this warning.\n",
      "  FutureWarning)\n",
      "C:\\ProgramData\\Anaconda3\\lib\\site-packages\\sklearn\\linear_model\\logistic.py:460: FutureWarning: Default multi_class will be changed to 'auto' in 0.22. Specify the multi_class option to silence this warning.\n",
      "  \"this warning.\", FutureWarning)\n"
     ]
    },
    {
     "data": {
      "text/plain": [
       "Pipeline(memory=None,\n",
       "     steps=[('vect', CountVectorizer(analyzer='word', binary=False, decode_error='strict',\n",
       "        dtype=<class 'numpy.int64'>, encoding='utf-8', input='content',\n",
       "        lowercase=True, max_df=1.0, max_features=None, min_df=1,\n",
       "        ngram_range=(1, 1), preprocessor=None, stop_words=None,\n",
       "        strip...penalty='l2', random_state=None,\n",
       "          solver='warn', tol=0.0001, verbose=0, warm_start=False))])"
      ]
     },
     "execution_count": 148,
     "metadata": {},
     "output_type": "execute_result"
    }
   ],
   "source": [
    "#Logistic regression\n",
    "\n",
    "from sklearn.linear_model import LogisticRegression\n",
    "\n",
    "logreg = Pipeline([('vect', CountVectorizer()),\n",
    "                ('tfidf', TfidfTransformer()),\n",
    "                ('clf', LogisticRegression(n_jobs=1, C=1e5)),\n",
    "               ])\n",
    "logreg.fit(X_train, y_train)"
   ]
  },
  {
   "cell_type": "code",
   "execution_count": 149,
   "metadata": {},
   "outputs": [
    {
     "name": "stdout",
     "output_type": "stream",
     "text": [
      "accuracy 0.8333333333333334\n",
      "              precision    recall  f1-score   support\n",
      "\n",
      " Infromatica       1.00      1.00      1.00         1\n",
      "         SAS       0.33      0.50      0.40         2\n",
      "   DataStage       1.00      1.00      1.00         4\n",
      "          UI       1.00      1.00      1.00         4\n",
      " DataScience       0.75      0.60      0.67         5\n",
      "     BigData       1.00      1.00      1.00         2\n",
      "\n",
      "   micro avg       0.83      0.83      0.83        18\n",
      "   macro avg       0.85      0.85      0.84        18\n",
      "weighted avg       0.86      0.83      0.84        18\n",
      "\n"
     ]
    }
   ],
   "source": [
    "y_pred = logreg.predict(X_test)\n",
    "\n",
    "print('accuracy %s' % accuracy_score(y_pred, y_test))\n",
    "print(classification_report(y_test, y_pred,target_names=my_tags))"
   ]
  },
  {
   "cell_type": "code",
   "execution_count": 150,
   "metadata": {},
   "outputs": [
    {
     "name": "stdout",
     "output_type": "stream",
     "text": [
      "R_context:   tag: DATASCIENCE tag_pred: SAS\n",
      "R_context:   tag: SAS tag_pred: DATASCIENCE\n",
      "R_context:   tag: SAS tag_pred: DATASCIENCE\n"
     ]
    }
   ],
   "source": [
    "#Misclassified:\n",
    "for x, y, y_hat in zip(X_test, y_test, y_pred):\n",
    "    if y != y_hat:\n",
    "        #print(f'R_context: {x} tag: {y} tag_pred: {y_hat}')print(f'R_context: {x} tag: {y} tag_pred: {y_hat}')\n",
    "         print(f'R_context:   tag: {y} tag_pred: {y_hat}')"
   ]
  },
  {
   "cell_type": "code",
   "execution_count": null,
   "metadata": {},
   "outputs": [],
   "source": []
  }
 ],
 "metadata": {
  "kernelspec": {
   "display_name": "Python 3",
   "language": "python",
   "name": "python3"
  },
  "language_info": {
   "codemirror_mode": {
    "name": "ipython",
    "version": 3
   },
   "file_extension": ".py",
   "mimetype": "text/x-python",
   "name": "python",
   "nbconvert_exporter": "python",
   "pygments_lexer": "ipython3",
   "version": "3.7.3"
  }
 },
 "nbformat": 4,
 "nbformat_minor": 2
}
